{
 "cells": [
  {
   "cell_type": "markdown",
   "id": "c3726864",
   "metadata": {},
   "source": [
    "## Importing Necessary Libraries:"
   ]
  },
  {
   "cell_type": "code",
   "execution_count": 3,
   "id": "6a023da2",
   "metadata": {},
   "outputs": [],
   "source": [
    "import pandas as pd\n",
    "import requests\n",
    "from bs4 import BeautifulSoup"
   ]
  },
  {
   "cell_type": "markdown",
   "id": "df2a14c6",
   "metadata": {},
   "source": [
    "## Scraping data from the webpages:"
   ]
  },
  {
   "cell_type": "code",
   "execution_count": 4,
   "id": "0a83ee86",
   "metadata": {},
   "outputs": [],
   "source": [
    "url = 'https://mitsloan.mit.edu/ideas-made-to-matter/machine-learning-explained'\n",
    "response = requests.get(url)"
   ]
  },
  {
   "cell_type": "code",
   "execution_count": 5,
   "id": "08c6242d",
   "metadata": {},
   "outputs": [],
   "source": [
    "soup = BeautifulSoup(response.content, 'html.parser')"
   ]
  },
  {
   "cell_type": "code",
   "execution_count": 216,
   "id": "d5d7400c",
   "metadata": {},
   "outputs": [],
   "source": [
    "article_body = soup.find('div',class_='article--body')\n",
    "article_paragraphs = article_body.find_all('p')\n",
    "article_text = ' '.join([p.text.strip() for p in article_paragraphs])"
   ]
  },
  {
   "cell_type": "code",
   "execution_count": 550,
   "id": "1efa95ae",
   "metadata": {},
   "outputs": [
    {
     "name": "stdout",
     "output_type": "stream",
     "text": [
      "Machine learning is behind chatbots and predictive text, language translation apps, the shows Netflix suggests to you, and how your social media feeds are presented. It powers autonomous vehicles and machines that can diagnose medical conditions based on images. When companies today deploy artificial intelligence programs, they are most likely using machine learning — so much so that the terms are often used interchangeably, and sometimes ambiguously. Machine learning is a subfield of artificial\n"
     ]
    }
   ],
   "source": [
    "print(article_text[:500])"
   ]
  },
  {
   "cell_type": "code",
   "execution_count": 23,
   "id": "1ba0e0aa",
   "metadata": {},
   "outputs": [],
   "source": [
    "url2 = 'https://www.infoworld.com/article/3634602/explainable-ai-explained.html'\n",
    "respose2 = requests.get(url2)\n",
    "\n",
    "soup2 = BeautifulSoup(respose2.content, 'html.parser')"
   ]
  },
  {
   "cell_type": "code",
   "execution_count": 218,
   "id": "7a086445",
   "metadata": {},
   "outputs": [],
   "source": [
    "article_body2 = soup2.find('div',id ='drr-container', itemprop = 'articleBody')\n",
    "article_paragraphs2 = article_body2.find_all('p')\n",
    "article_text2 = ' '.join([p.text.strip() for p in article_paragraphs2])"
   ]
  },
  {
   "cell_type": "code",
   "execution_count": 551,
   "id": "deaafbd9",
   "metadata": {},
   "outputs": [
    {
     "name": "stdout",
     "output_type": "stream",
     "text": [
      "While machine learning and deep learning models often produce good classifications and predictions, they are almost never perfect. Models almost always have some percentage of false positive and false negative predictions. That’s sometimes acceptable, but matters a lot when the stakes are high. For example, a drone weapons system that falsely identifies a school as a terrorist base could inadvertently kill innocent children and teachers unless a human operator overrides the decision to attack. T\n"
     ]
    }
   ],
   "source": [
    "print(article_text2[:500])"
   ]
  },
  {
   "cell_type": "code",
   "execution_count": 331,
   "id": "3759b62c",
   "metadata": {},
   "outputs": [],
   "source": [
    "url3 = 'https://www2.deloitte.com/se/sv/pages/technology/articles/part1-artificial-intelligence-defined.html'\n",
    "respose3 = requests.get(url3)\n",
    "\n",
    "soup3 = BeautifulSoup(respose3.content, 'html.parser')"
   ]
  },
  {
   "cell_type": "code",
   "execution_count": 332,
   "id": "9398eacd",
   "metadata": {},
   "outputs": [],
   "source": [
    "article_body3 = soup3.find('div',class_='contentpagecolctrl section')\n",
    "article_paragraphs3 = article_body3.find_all('p')\n",
    "article_text3 = ' '.join([p.text.strip() for p in article_paragraphs3])"
   ]
  },
  {
   "cell_type": "code",
   "execution_count": 552,
   "id": "0739dc45",
   "metadata": {},
   "outputs": [
    {
     "data": {
      "text/plain": [
       "'In general terms, AI refers to a broad field of science encompassing not only computer science but also psychology, philosophy, linguistics and other areas. AI is concerned with getting computers to do tasks that would normally require human intelligence. Having said that, there are many points of view on AI and many definitions exist. Below, some definitions highlight its key characteristics.\\nSome general definitions\\n\\n“Artificial intelligence is a computerised system that exhibits behaviour tha'"
      ]
     },
     "execution_count": 552,
     "metadata": {},
     "output_type": "execute_result"
    }
   ],
   "source": [
    "article_text3[:500]"
   ]
  },
  {
   "cell_type": "markdown",
   "id": "212b914b",
   "metadata": {},
   "source": [
    "## Data Preprocessing:"
   ]
  },
  {
   "cell_type": "code",
   "execution_count": 401,
   "id": "7493ce25",
   "metadata": {},
   "outputs": [],
   "source": [
    "data = ' '.join([article_text,article_text2,article_text3])"
   ]
  },
  {
   "cell_type": "code",
   "execution_count": 402,
   "id": "8a480833",
   "metadata": {},
   "outputs": [],
   "source": [
    "with open('data.txt', 'w', encoding='utf-8') as f:\n",
    "    f.write(data)"
   ]
  },
  {
   "cell_type": "code",
   "execution_count": 553,
   "id": "f8a24631",
   "metadata": {},
   "outputs": [
    {
     "data": {
      "text/plain": [
       "\"Machine learning is behind chatbots and predictive text, language translation apps, the shows Netflix suggests to you, and how your social media feeds are presented. It powers autonomous vehicles and machines that can diagnose medical conditions based on images. When companies today deploy artificial intelligence programs, they are most likely using machine learning —\\xa0so much so that the terms are often used interchangeably, and sometimes ambiguously. Machine learning is a subfield of artificial intelligence that gives computers the ability to learn without explicitly being programmed. “In just the last five or 10 years, machine learning has become a critical way, arguably the most important way, most parts of AI are done,” said MIT Sloan professorThomas W. Malone,\\xa0the founding director of the MIT Center for Collective Intelligence. “So that's why some people use the terms AI and machine learning almost as synonymous … most of the current advances in AI have involved machine learning.”\""
      ]
     },
     "execution_count": 553,
     "metadata": {},
     "output_type": "execute_result"
    }
   ],
   "source": [
    "data[:1000]"
   ]
  },
  {
   "cell_type": "markdown",
   "id": "06c55cda",
   "metadata": {},
   "source": [
    "### Importing Necessary libraries for processing text:"
   ]
  },
  {
   "cell_type": "code",
   "execution_count": 403,
   "id": "6b07237d",
   "metadata": {},
   "outputs": [
    {
     "name": "stderr",
     "output_type": "stream",
     "text": [
      "[nltk_data] Downloading package punkt to\n",
      "[nltk_data]     C:\\Users\\varun\\AppData\\Roaming\\nltk_data...\n",
      "[nltk_data]   Package punkt is already up-to-date!\n",
      "[nltk_data] Downloading package stopwords to\n",
      "[nltk_data]     C:\\Users\\varun\\AppData\\Roaming\\nltk_data...\n",
      "[nltk_data]   Package stopwords is already up-to-date!\n"
     ]
    },
    {
     "data": {
      "text/plain": [
       "True"
      ]
     },
     "execution_count": 403,
     "metadata": {},
     "output_type": "execute_result"
    }
   ],
   "source": [
    "import nltk\n",
    "from nltk.tokenize import sent_tokenize, word_tokenize\n",
    "from nltk.corpus import stopwords\n",
    "from nltk.stem import PorterStemmer\n",
    "import re\n",
    "# download required nltk packages\n",
    "nltk.download('punkt')\n",
    "nltk.download('stopwords')"
   ]
  },
  {
   "cell_type": "code",
   "execution_count": 534,
   "id": "380c4d37",
   "metadata": {},
   "outputs": [],
   "source": [
    "def text_preprocess(data):\n",
    "    '''\n",
    "    This function preprocesses the text data, and returns the word tokens.\n",
    "    '''\n",
    "    #convert to lower case:\n",
    "    text = data.lower()\n",
    "    \n",
    "    #tokenizing:\n",
    "    text = nltk.word_tokenize(text)\n",
    "    \n",
    "    #removing stop words:\n",
    "    stop_words = nltk.corpus.stopwords.words('english')\n",
    "    text = [word for word in text if word not in stop_words]\n",
    "    \n",
    "    # remove non-alphanumeric characters, numbers, and punctuation\n",
    "    text = [re.sub(r'[^a-zA-Z0-9\\s]+', '', word) for word in text]\n",
    "    \n",
    "    # remove whitespace and other special characters\n",
    "    text = [word.strip() for word in text]\n",
    "    \n",
    "    return text"
   ]
  },
  {
   "cell_type": "code",
   "execution_count": 525,
   "id": "1a12624c",
   "metadata": {},
   "outputs": [],
   "source": [
    "corpus = text_preprocess(data)"
   ]
  },
  {
   "cell_type": "code",
   "execution_count": 554,
   "id": "00bca202",
   "metadata": {},
   "outputs": [
    {
     "data": {
      "text/plain": [
       "['machine',\n",
       " 'learning',\n",
       " 'behind',\n",
       " 'chatbots',\n",
       " 'predictive',\n",
       " 'text',\n",
       " '',\n",
       " 'language',\n",
       " 'translation',\n",
       " 'apps',\n",
       " '',\n",
       " 'shows',\n",
       " 'netflix',\n",
       " 'suggests',\n",
       " '',\n",
       " 'social',\n",
       " 'media',\n",
       " 'feeds',\n",
       " 'presented',\n",
       " '',\n",
       " 'powers',\n",
       " 'autonomous',\n",
       " 'vehicles',\n",
       " 'machines',\n",
       " 'diagnose',\n",
       " 'medical',\n",
       " 'conditions',\n",
       " 'based',\n",
       " 'images',\n",
       " '',\n",
       " 'companies',\n",
       " 'today',\n",
       " 'deploy',\n",
       " 'artificial',\n",
       " 'intelligence',\n",
       " 'programs',\n",
       " '',\n",
       " 'likely',\n",
       " 'using',\n",
       " 'machine',\n",
       " 'learning',\n",
       " '',\n",
       " 'much',\n",
       " 'terms',\n",
       " 'often',\n",
       " 'used',\n",
       " 'interchangeably',\n",
       " '',\n",
       " 'sometimes',\n",
       " 'ambiguously',\n",
       " '',\n",
       " 'machine',\n",
       " 'learning',\n",
       " 'subfield',\n",
       " 'artificial',\n",
       " 'intelligence',\n",
       " 'gives',\n",
       " 'computers',\n",
       " 'ability',\n",
       " 'learn',\n",
       " 'without',\n",
       " 'explicitly',\n",
       " 'programmed',\n",
       " '',\n",
       " '',\n",
       " 'last',\n",
       " 'five',\n",
       " '10',\n",
       " 'years',\n",
       " '',\n",
       " 'machine',\n",
       " 'learning',\n",
       " 'become',\n",
       " 'critical',\n",
       " 'way',\n",
       " '',\n",
       " 'arguably',\n",
       " 'important',\n",
       " 'way',\n",
       " '',\n",
       " 'parts',\n",
       " 'ai',\n",
       " 'done',\n",
       " '',\n",
       " '',\n",
       " 'said',\n",
       " 'mit',\n",
       " 'sloan',\n",
       " 'professorthomas',\n",
       " 'w',\n",
       " 'malone',\n",
       " '',\n",
       " 'founding',\n",
       " 'director',\n",
       " 'mit',\n",
       " 'center',\n",
       " 'collective',\n",
       " 'intelligence',\n",
       " '',\n",
       " '']"
      ]
     },
     "execution_count": 554,
     "metadata": {},
     "output_type": "execute_result"
    }
   ],
   "source": [
    "corpus[:100]"
   ]
  },
  {
   "cell_type": "code",
   "execution_count": 526,
   "id": "59f5942b",
   "metadata": {},
   "outputs": [
    {
     "data": {
      "text/plain": [
       "5769"
      ]
     },
     "execution_count": 526,
     "metadata": {},
     "output_type": "execute_result"
    }
   ],
   "source": [
    "len(corpus)"
   ]
  },
  {
   "cell_type": "markdown",
   "id": "63191834",
   "metadata": {},
   "source": [
    "### Importing Word2Vec from gensim module:"
   ]
  },
  {
   "cell_type": "code",
   "execution_count": 527,
   "id": "c0600879",
   "metadata": {},
   "outputs": [],
   "source": [
    "import gensim\n",
    "from gensim.models import Word2Vec"
   ]
  },
  {
   "cell_type": "code",
   "execution_count": 544,
   "id": "1f0f61b1",
   "metadata": {},
   "outputs": [],
   "source": [
    "word2vec = Word2Vec(\n",
    "    sentences= [corpus], \n",
    "    min_count=1\n",
    ")"
   ]
  },
  {
   "cell_type": "code",
   "execution_count": 545,
   "id": "04c2d5af",
   "metadata": {},
   "outputs": [],
   "source": [
    "def similar_words(word):\n",
    "    sim_words = word2vec.wv.most_similar(word, topn=10)\n",
    "    \n",
    "    return sim_words[1:]"
   ]
  },
  {
   "cell_type": "code",
   "execution_count": 547,
   "id": "fbb652c4",
   "metadata": {},
   "outputs": [
    {
     "data": {
      "text/plain": [
       "[('learning', 0.9935299754142761),\n",
       " ('data', 0.9929983615875244),\n",
       " ('model', 0.9929943084716797),\n",
       " ('machines', 0.9924490451812744),\n",
       " ('machine', 0.9921749830245972),\n",
       " ('cognitive', 0.9920926094055176),\n",
       " ('systems', 0.9915611743927002),\n",
       " ('intelligent', 0.9915030598640442),\n",
       " ('smart', 0.9912641644477844)]"
      ]
     },
     "execution_count": 547,
     "metadata": {},
     "output_type": "execute_result"
    }
   ],
   "source": [
    "similar_words('ai')"
   ]
  }
 ],
 "metadata": {
  "kernelspec": {
   "display_name": "Python 3 (ipykernel)",
   "language": "python",
   "name": "python3"
  },
  "language_info": {
   "codemirror_mode": {
    "name": "ipython",
    "version": 3
   },
   "file_extension": ".py",
   "mimetype": "text/x-python",
   "name": "python",
   "nbconvert_exporter": "python",
   "pygments_lexer": "ipython3",
   "version": "3.9.12"
  }
 },
 "nbformat": 4,
 "nbformat_minor": 5
}
